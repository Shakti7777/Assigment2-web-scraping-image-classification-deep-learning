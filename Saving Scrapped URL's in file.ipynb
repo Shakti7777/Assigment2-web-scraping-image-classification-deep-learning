{
 "cells": [
  {
   "cell_type": "code",
   "execution_count": 1,
   "metadata": {},
   "outputs": [],
   "source": [
    "\n",
    "# import the necessary packages\n",
    "from selenium import webdriver\n",
    "import datetime\n",
    "import time\n",
    "import argparse\n",
    "import os"
   ]
  },
  {
   "cell_type": "code",
   "execution_count": 2,
   "metadata": {},
   "outputs": [],
   "source": [
    "import sys"
   ]
  },
  {
   "cell_type": "code",
   "execution_count": 5,
   "metadata": {},
   "outputs": [],
   "source": [
    "# Initialize the Chrome webdriver and open the URL\n",
    "driver = webdriver.Chrome(r'C:\\Users\\Jarvis\\Downloads\\chromedriver_win32\\chromedriver.exe')"
   ]
  },
  {
   "cell_type": "code",
   "execution_count": 12,
   "metadata": {},
   "outputs": [],
   "source": [
    "url=driver.get(\"https://www.amazon.in/b/ref=s9_acss_bw_cg_WWDTIMPC_2a1_w?node=17186599031&pf_rd_m=A1K21FY43GMZF8&pf_rd_s=merchandised-search-5&pf_rd_r=1C91CK7XYZXAX26P40VY&pf_rd_t=101&pf_rd_p=79601a8b-7d7e-4e08-84fe-e82957496171&pf_rd_i=1968256031\")"
   ]
  },
  {
   "cell_type": "code",
   "execution_count": 7,
   "metadata": {},
   "outputs": [
    {
     "name": "stdout",
     "output_type": "stream",
     "text": [
      "[INFO] Total time taken to scroll till the end 0:00:02.024735\n"
     ]
    }
   ],
   "source": [
    "# Define a pause time in between scrolls\n",
    "pause_time = 2\n",
    "\n",
    "# Get scroll height\n",
    "last_height = driver.execute_script(\"return document.body.scrollHeight\")\n",
    "\n",
    "# Record the starting time\n",
    "start = datetime.datetime.now()\n",
    "\n",
    "while True:\n",
    "    # Scroll down to bottom\n",
    "    driver.execute_script(\"window.scrollTo(0, document.body.scrollHeight);\")\n",
    "\n",
    "    # wait to load page\n",
    "    time.sleep(pause_time)\n",
    "\n",
    "    # Calculate new scroll height and compare with last scroll height\n",
    "    new_height = driver.execute_script(\"return document.body.scrollHeight\")\n",
    "    if new_height == last_height: # which means end of page\n",
    "        break\n",
    "    # update the last height\n",
    "    last_height = new_height\n",
    "    \n",
    "# Record the end time, then calculate and print the total time\n",
    "end = datetime.datetime.now()\n",
    "delta = end-start\n",
    "print(\"[INFO] Total time taken to scroll till the end {}\".format(delta))"
   ]
  },
  {
   "cell_type": "code",
   "execution_count": 8,
   "metadata": {},
   "outputs": [],
   "source": [
    "# Extract all anchor tags\n",
    "link_tags = driver.find_elements_by_tag_name('a')"
   ]
  },
  {
   "cell_type": "code",
   "execution_count": 9,
   "metadata": {},
   "outputs": [],
   "source": [
    "# Create an emply list to hold all the urls for the images\n",
    "hrefs = []\n",
    "\n",
    "# Extract the urls of only the images from each of the tag WebElements\n",
    "for tag in link_tags:\n",
    "    if \"s-access-image cfMarker\"  not in tag.get_attribute('class'):\n",
    "        continue\n",
    "    hrefs.append(tag.get_attribute('href'))"
   ]
  },
  {
   "cell_type": "code",
   "execution_count": 10,
   "metadata": {},
   "outputs": [
    {
     "name": "stdout",
     "output_type": "stream",
     "text": [
      "[INFO] Successfully created the directory C:\\Users\\Jarvis\\img_pg_links \n"
     ]
    }
   ],
   "source": [
    "#Create the directory after checking if it already exists or not\n",
    "dir_name = 'img_pg_links'\n",
    "if not os.path.exists(dir_name):\n",
    "    try:\n",
    "        os.mkdir(dir_name)\n",
    "    except OSError:\n",
    "        print (\"[INFO] Creation of the directory {} failed\".format(os.path.abspath(dir_name)))\n",
    "    else:\n",
    "        print (\"[INFO] Successfully created the directory {} \".format(os.path.abspath(dir_name)))"
   ]
  },
  {
   "cell_type": "code",
   "execution_count": null,
   "metadata": {},
   "outputs": [],
   "source": []
  }
 ],
 "metadata": {
  "kernelspec": {
   "display_name": "Python 3",
   "language": "python",
   "name": "python3"
  },
  "language_info": {
   "codemirror_mode": {
    "name": "ipython",
    "version": 3
   },
   "file_extension": ".py",
   "mimetype": "text/x-python",
   "name": "python",
   "nbconvert_exporter": "python",
   "pygments_lexer": "ipython3",
   "version": "3.6.10"
  }
 },
 "nbformat": 4,
 "nbformat_minor": 4
}
